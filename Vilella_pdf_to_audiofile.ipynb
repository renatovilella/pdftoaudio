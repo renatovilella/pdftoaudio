{
 "cells": [
  {
   "cell_type": "markdown",
   "id": "30ce18c1",
   "metadata": {},
   "source": [
    "## Install libraries"
   ]
  },
  {
   "cell_type": "code",
   "execution_count": 6,
   "id": "a7b1625f",
   "metadata": {
    "collapsed": true
   },
   "outputs": [
    {
     "name": "stdout",
     "output_type": "stream",
     "text": [
      "Collecting Flask\n",
      "  Obtaining dependency information for Flask from https://files.pythonhosted.org/packages/36/42/015c23096649b908c809c69388a805a571a3bea44362fe87e33fc3afa01f/flask-3.0.0-py3-none-any.whl.metadata\n",
      "  Using cached flask-3.0.0-py3-none-any.whl.metadata (3.6 kB)\n",
      "Requirement already satisfied: Werkzeug>=3.0.0 in d:\\mlenv\\lib\\site-packages (from Flask) (3.0.1)\n",
      "Requirement already satisfied: Jinja2>=3.1.2 in d:\\mlenv\\lib\\site-packages (from Flask) (3.1.2)\n",
      "Collecting itsdangerous>=2.1.2 (from Flask)\n",
      "  Using cached itsdangerous-2.1.2-py3-none-any.whl (15 kB)\n",
      "Requirement already satisfied: click>=8.1.3 in d:\\mlenv\\lib\\site-packages (from Flask) (8.1.7)\n",
      "Requirement already satisfied: blinker>=1.6.2 in d:\\mlenv\\lib\\site-packages (from Flask) (1.6.2)\n",
      "Requirement already satisfied: importlib-metadata>=3.6.0 in d:\\mlenv\\lib\\site-packages (from Flask) (6.8.0)\n",
      "Requirement already satisfied: colorama in d:\\mlenv\\lib\\site-packages (from click>=8.1.3->Flask) (0.4.6)\n",
      "Requirement already satisfied: zipp>=0.5 in d:\\mlenv\\lib\\site-packages (from importlib-metadata>=3.6.0->Flask) (3.17.0)\n",
      "Requirement already satisfied: MarkupSafe>=2.0 in d:\\mlenv\\lib\\site-packages (from Jinja2>=3.1.2->Flask) (2.1.3)\n",
      "Using cached flask-3.0.0-py3-none-any.whl (99 kB)\n",
      "Installing collected packages: itsdangerous, Flask\n",
      "Successfully installed Flask-3.0.0 itsdangerous-2.1.2\n",
      "Note: you may need to restart the kernel to use updated packages.\n"
     ]
    },
    {
     "name": "stderr",
     "output_type": "stream",
     "text": [
      "WARNING: Ignoring invalid distribution -erkzeug (d:\\mlenv\\lib\\site-packages)\n",
      "WARNING: Ignoring invalid distribution -orch (d:\\mlenv\\lib\\site-packages)\n",
      "WARNING: Ignoring invalid distribution -erkzeug (d:\\mlenv\\lib\\site-packages)\n",
      "WARNING: Ignoring invalid distribution -orch (d:\\mlenv\\lib\\site-packages)\n",
      "  WARNING: The script flask.exe is installed in 'C:\\Users\\Renato Vilella\\AppData\\Roaming\\Python\\Python38\\Scripts' which is not on PATH.\n",
      "  Consider adding this directory to PATH or, if you prefer to suppress this warning, use --no-warn-script-location.\n"
     ]
    }
   ],
   "source": [
    "pip install --user Flask"
   ]
  },
  {
   "cell_type": "code",
   "execution_count": null,
   "id": "00868ec9",
   "metadata": {},
   "outputs": [],
   "source": [
    "#pip install pyttsx3\n",
    "#pip install PyPDF2"
   ]
  },
  {
   "cell_type": "markdown",
   "id": "a3f8062b",
   "metadata": {},
   "source": [
    "## Import"
   ]
  },
  {
   "cell_type": "code",
   "execution_count": 1,
   "id": "0e7d26b4",
   "metadata": {},
   "outputs": [],
   "source": [
    "import PyPDF2\n",
    "import pyttsx3\n",
    "from flask import Flask, render_template, request, redirect, url_for, send_file\n",
    "import os"
   ]
  },
  {
   "cell_type": "markdown",
   "id": "3dbee869",
   "metadata": {},
   "source": [
    "## Create flask app"
   ]
  },
  {
   "cell_type": "code",
   "execution_count": null,
   "id": "662b1c34",
   "metadata": {},
   "outputs": [
    {
     "name": "stdout",
     "output_type": "stream",
     "text": [
      " * Serving Flask app '__main__'\n",
      " * Debug mode: off\n"
     ]
    },
    {
     "name": "stderr",
     "output_type": "stream",
     "text": [
      "WARNING: This is a development server. Do not use it in a production deployment. Use a production WSGI server instead.\n",
      " * Running on http://127.0.0.1:5000\n",
      "Press CTRL+C to quit\n",
      "127.0.0.1 - - [25/Oct/2023 23:23:04] \"GET / HTTP/1.1\" 200 -\n",
      "127.0.0.1 - - [25/Oct/2023 23:23:07] \"POST /upload HTTP/1.1\" 302 -\n",
      "127.0.0.1 - - [25/Oct/2023 23:24:20] \"GET /process/Monitoring_Athletic_Training_Status_Througth_heart_rate_regulation.pdf HTTP/1.1\" 200 -\n"
     ]
    }
   ],
   "source": [
    "import os\n",
    "import PyPDF2\n",
    "import pyttsx3\n",
    "from flask import Flask, render_template, request, redirect, url_for, send_file\n",
    "from werkzeug.utils import secure_filename\n",
    "\n",
    "app = Flask(__name__)\n",
    "\n",
    "app.config['UPLOAD_FOLDER'] = 'uploads'\n",
    "app.config['ALLOWED_EXTENSIONS'] = {'pdf'}\n",
    "\n",
    "def allowed_file(filename):\n",
    "    return '.' in filename and filename.rsplit('.', 1)[1].lower() in app.config['ALLOWED_EXTENSIONS']\n",
    "\n",
    "@app.route('/')\n",
    "def index():\n",
    "    return render_template('index.html')\n",
    "\n",
    "@app.route('/upload', methods=['POST'])\n",
    "def upload_file():\n",
    "    if 'file' not in request.files:\n",
    "        return redirect(request.url)\n",
    "    file = request.files['file']\n",
    "    if file.filename == '':\n",
    "        return redirect(request.url)\n",
    "    if file and allowed_file(file.filename):\n",
    "        filename = secure_filename(file.filename)\n",
    "        file.save(os.path.join(app.config['UPLOAD_FOLDER'], filename))\n",
    "        return redirect(url_for('process_file', filename=filename))\n",
    "    return redirect(request.url)\n",
    "\n",
    "@app.route('/process/<filename>')\n",
    "def process_file(filename):\n",
    "    pdf_path = os.path.join(app.config['UPLOAD_FOLDER'], filename)\n",
    "    text = extract_text_from_pdf(pdf_path)\n",
    "    audio_file = convert_text_to_audio(text)\n",
    "    return send_file(audio_file, as_attachment=True)\n",
    "\n",
    "def extract_text_from_pdf(pdf_path):\n",
    "    text = \"\"\n",
    "    with open(pdf_path, 'rb') as pdf_file:\n",
    "        pdf_reader = PyPDF2.PdfReader(pdf_file)  # Change PdfFileReader to PdfReader\n",
    "        for page_num in range(len(pdf_reader.pages)):  # Change numPages to pages\n",
    "            text += pdf_reader.pages[page_num].extract_text()\n",
    "    return text\n",
    "\n",
    "def convert_text_to_audio(text):\n",
    "    audio_file = os.path.join('audiofile', 'output.mp3')  # Save audio in 'audiofile' folder\n",
    "    engine = pyttsx3.init()\n",
    "    engine.save_to_file(text, audio_file)\n",
    "    engine.runAndWait()\n",
    "    return audio_file\n",
    "\n",
    "if __name__ == '__main__':\n",
    "    app.run()"
   ]
  },
  {
   "cell_type": "code",
   "execution_count": 3,
   "id": "f54f3d15",
   "metadata": {},
   "outputs": [
    {
     "name": "stderr",
     "output_type": "stream",
     "text": [
      "No traceback available to show.\n"
     ]
    }
   ],
   "source": [
    "%tb"
   ]
  },
  {
   "cell_type": "code",
   "execution_count": 18,
   "id": "379a664e",
   "metadata": {},
   "outputs": [
    {
     "ename": "SyntaxError",
     "evalue": "invalid syntax (945115591.py, line 1)",
     "output_type": "error",
     "traceback": [
      "\u001b[1;36m  Cell \u001b[1;32mIn[18], line 1\u001b[1;36m\u001b[0m\n\u001b[1;33m    python app.py\u001b[0m\n\u001b[1;37m           ^\u001b[0m\n\u001b[1;31mSyntaxError\u001b[0m\u001b[1;31m:\u001b[0m invalid syntax\n"
     ]
    }
   ],
   "source": []
  },
  {
   "cell_type": "code",
   "execution_count": null,
   "id": "e7366928",
   "metadata": {},
   "outputs": [],
   "source": []
  },
  {
   "cell_type": "code",
   "execution_count": null,
   "id": "f97c3aa4",
   "metadata": {},
   "outputs": [],
   "source": []
  },
  {
   "cell_type": "code",
   "execution_count": null,
   "id": "93de686a",
   "metadata": {},
   "outputs": [],
   "source": []
  },
  {
   "cell_type": "code",
   "execution_count": null,
   "id": "9ada8a36",
   "metadata": {},
   "outputs": [],
   "source": []
  },
  {
   "cell_type": "code",
   "execution_count": null,
   "id": "eb9eea99",
   "metadata": {},
   "outputs": [],
   "source": []
  },
  {
   "cell_type": "code",
   "execution_count": null,
   "id": "9889e942",
   "metadata": {},
   "outputs": [],
   "source": []
  },
  {
   "cell_type": "code",
   "execution_count": null,
   "id": "fa38e868",
   "metadata": {},
   "outputs": [],
   "source": []
  }
 ],
 "metadata": {
  "kernelspec": {
   "display_name": "Python 3 (ipykernel)",
   "language": "python",
   "name": "python3"
  },
  "language_info": {
   "codemirror_mode": {
    "name": "ipython",
    "version": 3
   },
   "file_extension": ".py",
   "mimetype": "text/x-python",
   "name": "python",
   "nbconvert_exporter": "python",
   "pygments_lexer": "ipython3",
   "version": "3.8.17"
  }
 },
 "nbformat": 4,
 "nbformat_minor": 5
}
